{
 "cells": [
  {
   "cell_type": "markdown",
   "metadata": {
    "id": "FHCKKt4cjQY0"
   },
   "source": [
    "#**Project 2** \n",
    "\n",
    "Let's reproduce the Hubble's plot by yourself!\n",
    "\n",
    "= = =\n",
    "\n",
    "#how to submit your report to the Cyber campus\n",
    "\n",
    "(1) submit the completed ipynb file that you revised following the lecture\n",
    "\n",
    "(2) submit a pdf version of the ipynb showing all command lines and output windows\n",
    "\n",
    "\n",
    "**filenames:** \n",
    "- project2_yourname_studentID.ipynb\n",
    "- project2_yourname_studentID.pdf"
   ]
  },
  {
   "cell_type": "code",
   "execution_count": 1,
   "metadata": {
    "id": "wYohrHM4N0NU"
   },
   "outputs": [
    {
     "ename": "NameError",
     "evalue": "name 'np' is not defined",
     "output_type": "error",
     "traceback": [
      "\u001b[0;31m---------------------------------------------------------------------------\u001b[0m",
      "\u001b[0;31mNameError\u001b[0m                                 Traceback (most recent call last)",
      "Input \u001b[0;32mIn [1]\u001b[0m, in \u001b[0;36m<cell line: 24>\u001b[0;34m()\u001b[0m\n\u001b[1;32m      1\u001b[0m \u001b[38;5;66;03m# Hubble's law \u001b[39;00m\n\u001b[1;32m      2\u001b[0m \n\u001b[1;32m      3\u001b[0m \u001b[38;5;66;03m# read two given arrays d and v \u001b[39;00m\n\u001b[0;32m   (...)\u001b[0m\n\u001b[1;32m     21\u001b[0m \u001b[38;5;66;03m# Hubble's original data (15 data points are read from Figure 1, 1929 paper by Hubble)\u001b[39;00m\n\u001b[1;32m     22\u001b[0m \u001b[38;5;66;03m# create two arrays for d and v \u001b[39;00m\n\u001b[0;32m---> 24\u001b[0m d\u001b[38;5;241m=\u001b[39m\u001b[43mnp\u001b[49m\u001b[38;5;241m.\u001b[39marray([ \u001b[38;5;241m27888.44621513982\u001b[39m, \u001b[38;5;241m35856.57370517962\u001b[39m, \u001b[38;5;241m215139.44223107595\u001b[39m, \u001b[38;5;241m266932.27091633494\u001b[39m, \u001b[38;5;241m501992.0318725102\u001b[39m, \u001b[38;5;241m637450.1992031876\u001b[39m,\u001b[38;5;241m900398.406374502\u001b[39m, \u001b[38;5;241m804780.8764940242\u001b[39m, \u001b[38;5;241m896414.3426294823\u001b[39m,\u001b[38;5;241m908366.5338645419\u001b[39m,\u001b[38;5;241m1103585.657370518\u001b[39m, \n\u001b[1;32m     25\u001b[0m    \u001b[38;5;241m1107569.7211155382\u001b[39m, \u001b[38;5;241m1394422.310756972\u001b[39m, \u001b[38;5;241m1713147.4103585659\u001b[39m, \u001b[38;5;241m2007968.12749004\u001b[39m]) \u001b[38;5;66;03m# d: distance to a galaxy in pc\u001b[39;00m\n\u001b[1;32m     27\u001b[0m v\u001b[38;5;241m=\u001b[39mnp\u001b[38;5;241m.\u001b[39marray([ \u001b[38;5;241m-\u001b[39m\u001b[38;5;241m22.5816733067727\u001b[39m, \u001b[38;5;241m37.45019920318714\u001b[39m, \u001b[38;5;241m38.16733067729069\u001b[39m, \u001b[38;5;241m6.37450199203181\u001b[39m, \u001b[38;5;241m423.31474103585656\u001b[39m, \u001b[38;5;241m327.85657370517936\u001b[39m, \u001b[38;5;241m216.9083665338644\u001b[39m, \u001b[38;5;241m380.52589641434247\u001b[39m, \u001b[38;5;241m436.89243027888426\u001b[39m, \u001b[38;5;241m616.9402390438247\u001b[39m, \u001b[38;5;241m577.7211155378485\u001b[39m,\n\u001b[1;32m     28\u001b[0m    \u001b[38;5;241m737.7370517928287\u001b[39m, \u001b[38;5;241m626.8844621513944\u001b[39m, \u001b[38;5;241m1060.1593625498008\u001b[39m, \u001b[38;5;241m541.3386454183266\u001b[39m]) \u001b[38;5;66;03m# v: recession velocity of a galaxy in km/s\u001b[39;00m\n\u001b[1;32m     31\u001b[0m \u001b[38;5;66;03m#[create a figure]\u001b[39;00m\n\u001b[1;32m     32\u001b[0m \n\u001b[1;32m     33\u001b[0m \u001b[38;5;66;03m# (1) create a scatter plot ( d vs v )\u001b[39;00m\n\u001b[0;32m   (...)\u001b[0m\n\u001b[1;32m     57\u001b[0m \u001b[38;5;66;03m# check out https://numpy.org/doc/stable/reference/generated/numpy.polyfit.html\u001b[39;00m\n\u001b[1;32m     58\u001b[0m \u001b[38;5;66;03m# polyfit requires \"arrays\" not lists for (x,y) arguments. argument 1 uses a linear fit\u001b[39;00m\n",
      "\u001b[0;31mNameError\u001b[0m: name 'np' is not defined"
     ]
    }
   ],
   "source": [
    "# Hubble's law \n",
    "\n",
    "# read two given arrays d and v \n",
    "# create the figure following instructions \n",
    "# the final output will be a scatter plot overlaid with two lines\n",
    "\n",
    "# add axis labels\n",
    "# add a text \"H0=500 km/s/Mpc\" as a legend (inserted within the figure)\n",
    "# add a figure title\n",
    "################################################\n",
    "\n",
    "# import necessary modules/libraries for plotting\n",
    "\n",
    "\n",
    "#[prep]\n",
    "# set picture size (8,6) \n",
    "\n",
    "# set a font size 14\n",
    "\n",
    "#[generate the data]\n",
    "# Hubble's original data (15 data points are read from Figure 1, 1929 paper by Hubble)\n",
    "# create two arrays for d and v \n",
    "\n",
    "d=np.array([ 27888.44621513982, 35856.57370517962, 215139.44223107595, 266932.27091633494, 501992.0318725102, 637450.1992031876,900398.406374502, 804780.8764940242, 896414.3426294823,908366.5338645419,1103585.657370518, \n",
    "   1107569.7211155382, 1394422.310756972, 1713147.4103585659, 2007968.12749004]) # d: distance to a galaxy in pc\n",
    "   \n",
    "v=np.array([ -22.5816733067727, 37.45019920318714, 38.16733067729069, 6.37450199203181, 423.31474103585656, 327.85657370517936, 216.9083665338644, 380.52589641434247, 436.89243027888426, 616.9402390438247, 577.7211155378485,\n",
    "   737.7370517928287, 626.8844621513944, 1060.1593625498008, 541.3386454183266]) # v: recession velocity of a galaxy in km/s\n",
    "\n",
    "\n",
    "#[create a figure]\n",
    "\n",
    "# (1) create a scatter plot ( d vs v )\n",
    "# marker style: green up triangle, size 8\n",
    "\n",
    "\n",
    "# (2) create a black dashed line corresponding to H0=500km/s/Mpc (x1 vs y) \n",
    "# Assume H0=500 km/s/Mpc and draw a black dashed line overlaid on the triangle markers\n",
    "# Hubble's law d = 500 * v\n",
    "# this is an example of \"manual drawing\"\n",
    "\n",
    "# save 500 km/s/Mpc Hubble's original value as a parameter H0 (as a real value)\n",
    "\n",
    "# set an arbitrary list \"x\" to draw a line for H0=500 km/s/Mpc\n",
    "# create a list \"x\" in Mpc, containing two elements x=0 and x=2 only.\n",
    "# y in km/s <--- y = H0 * x ==> y=[0, 1000]\n",
    "# multiply 1e6 for converting the value in Mpc --> pc \n",
    "# use x1 (in pc) for plotting a line\n",
    "\n",
    "# line style: black dashed line, width 2\n",
    "\n",
    "# (3) add a red solid line that is obtained of the data \"fit\". This is an example of \"data analysis\"\n",
    "# we use a linear polinomial fitting of the data (d,v) using y=ax+b\n",
    "# line style: red solid line, width 4\n",
    "\n",
    "# \"Least squared polynomial fit\" \n",
    "# check out https://numpy.org/doc/stable/reference/generated/numpy.polyfit.html\n",
    "# polyfit requires \"arrays\" not lists for (x,y) arguments. argument 1 uses a linear fit\n",
    "\n",
    "polycoeff = np.polyfit(d,v,1)  # returns the coefficients of the fitting function\n",
    "fit=np.poly1d(polycoeff)       # returns a function \"fit=y=ax+b\", where a and b are constants\n",
    "\n",
    "#[labels and titles of the figure]\n",
    "# set the names of x-axis and y-axis as follows\n",
    "# x label: distance (pc)\n",
    "# y label: recession velocity (km/s)\n",
    "\n",
    "\n",
    "# add a text in the figure at the assigned position, use the font-size 12\n",
    "# syntax: plt.text(x,y, 'text to show', {arguments}) <-- NOTE: x,y are in data coordinates\n",
    "# text : H_0=500 km/s/Mpc where H_0=500 is written in the mathematical style.\n",
    "\n",
    "# set figure title\n",
    "# figure title: Hubble's law\n",
    "\n",
    "#show the figure on the screen\n"
   ]
  },
  {
   "cell_type": "code",
   "execution_count": null,
   "metadata": {
    "id": "84ERqed4BsD6"
   },
   "outputs": [],
   "source": [
    "# print out the result of the fitting on the screen (ex) ax+b"
   ]
  },
  {
   "cell_type": "markdown",
   "metadata": {
    "id": "EVv2hDnP-Iq0"
   },
   "source": [
    "**meaning of the slope obtained by the fit**\n",
    "\n",
    "x = distance in pc\n",
    "y = recession velocity in km/s\n",
    "\n",
    "therefore, the slope has the unit of y/x = km/s/pc\n",
    "\n",
    "But, we want to write the Hubble constant H0 in the unit of km/s/Mpc"
   ]
  },
  {
   "cell_type": "code",
   "execution_count": null,
   "metadata": {
    "id": "9fOPwtw7-ePv"
   },
   "outputs": [],
   "source": [
    "#convert the unit of the slope from km/s/pc to km/s/Mpc"
   ]
  },
  {
   "cell_type": "markdown",
   "metadata": {
    "id": "ubv-gQN1-je3"
   },
   "source": [
    "Our fitting shows the slope of the red solid line is OOO km/s/Mpc.  <-- replace OOO by your result\n",
    "\n",
    "This is roughly the original value of a Hubble constant that Edwin Hubble would have had in his 1929 paper."
   ]
  },
  {
   "cell_type": "markdown",
   "metadata": {
    "id": "WARxL7FRBzC4"
   },
   "source": [
    "DIY: What is the corresponding the age of the universe for H0=OOO km/s/Mpc ?"
   ]
  }
 ],
 "metadata": {
  "colab": {
   "collapsed_sections": [],
   "name": "2022-1-Python-Project2-template.ipynb",
   "provenance": []
  },
  "kernelspec": {
   "display_name": "Python 3 (ipykernel)",
   "language": "python",
   "name": "python3"
  },
  "language_info": {
   "codemirror_mode": {
    "name": "ipython",
    "version": 3
   },
   "file_extension": ".py",
   "mimetype": "text/x-python",
   "name": "python",
   "nbconvert_exporter": "python",
   "pygments_lexer": "ipython3",
   "version": "3.10.4"
  }
 },
 "nbformat": 4,
 "nbformat_minor": 1
}
